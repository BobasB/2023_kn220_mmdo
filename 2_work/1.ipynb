{
 "cells": [
  {
   "attachments": {},
   "cell_type": "markdown",
   "metadata": {},
   "source": [
    "### Основні типи даних в Python"
   ]
  },
  {
   "attachments": {},
   "cell_type": "markdown",
   "metadata": {},
   "source": [
    "> `string` - стрічковий тип данних (але в Пайтоні все є обєктами!). Будь-яка стрічкова змінна є обєктом класу `str`."
   ]
  },
  {
   "cell_type": "code",
   "execution_count": 1,
   "metadata": {},
   "outputs": [
    {
     "name": "stdout",
     "output_type": "stream",
     "text": [
      "This is \n",
      "string.\n",
      "written in python.\n",
      "21 \n",
      " <class 'str'> \n",
      " 4\n"
     ]
    }
   ],
   "source": [
    "a = \"This\"\n",
    "b = ' is '\n",
    "c = \"\"\"\n",
    "string.\n",
    "Written in Python.\n",
    "\"\"\"\n",
    "d = str(21)\n",
    "concatination_example = a + b + c.capitalize() + d\n",
    "\n",
    "print(concatination_example, \"\\n\", type(d), \"\\n\", concatination_example.count(\"t\"))"
   ]
  },
  {
   "attachments": {},
   "cell_type": "markdown",
   "metadata": {},
   "source": [
    "> `numeric` - тут є декілька типів числових даних, наприклад цілі числа `int` та числа з плаваючою корапкою `float`."
   ]
  },
  {
   "cell_type": "code",
   "execution_count": 2,
   "metadata": {},
   "outputs": [
    {
     "name": "stdout",
     "output_type": "stream",
     "text": [
      "12 <class 'int'>\n",
      "12.6 <class 'float'>\n",
      "Примусово перетворюю int y float: <class 'float'>\n",
      "І навпаки float y int: <class 'int'>\n",
      "Переводимо в двійкову, вісікову та шістнадцяткову форму: 0b1100 0o14 0xc Та рахуємо кількість одиниць: 2\n"
     ]
    }
   ],
   "source": [
    "i = 12\n",
    "print(i, type(i))\n",
    "\n",
    "f = 12.6\n",
    "print(f, type(f))\n",
    "\n",
    "print(\"Примусово перетворюю int y float:\", type(float(i)))\n",
    "print(\"І навпаки float y int:\", type(int(f)))\n",
    "\n",
    "print(\"Переводимо в двійкову, вісікову та шістнадцяткову форму:\", \n",
    "        bin(i), \n",
    "        oct(i), \n",
    "        hex(i), \n",
    "        \"Та рахуємо кількість одиниць:\", \n",
    "        i.bit_count())\n"
   ]
  },
  {
   "attachments": {},
   "cell_type": "markdown",
   "metadata": {},
   "source": [
    "> `Sequence` - послідовні типи даних, або набори даних. До них відносяться `list` та `tuple`."
   ]
  },
  {
   "cell_type": "code",
   "execution_count": 3,
   "metadata": {},
   "outputs": [
    {
     "name": "stdout",
     "output_type": "stream",
     "text": [
      "['This', 12, 12.6, ['List', 'in', 'list'], 'and final sting'] <class 'list'>\n",
      "Виводжу перший елемент в списку по його індексу 0: This\n",
      "Виводжу останні елемент: and final sting\n",
      "Виводжу слайс: [12, 12.6]\n",
      "Виводжу елементи з вкладеного списку: in\n",
      "['This', 12, 12.6, ['List', 'in', 'list'], 'and final sting', 'New final element']\n",
      "['This', 12, 12.6, ['List', 'in', 'list'], 'New final element']\n"
     ]
    }
   ],
   "source": [
    "l = [a, i, f, [\"List\", \"in\", \"list\"], \"and final sting\"]\n",
    "print(l, type(l))\n",
    "print(\"Виводжу перший елемент в списку по його індексу 0:\",l[0])\n",
    "print(\"Виводжу останні елемент:\", l[-1])\n",
    "print(\"Виводжу слайс:\", l[1:3])\n",
    "print(\"Виводжу елементи з вкладеного списку:\", l[3][1])\n",
    "\n",
    "l.append(\"New final element\")\n",
    "print(l)\n",
    "l.pop(-2)\n",
    "print(l)"
   ]
  },
  {
   "cell_type": "code",
   "execution_count": 4,
   "metadata": {},
   "outputs": [
    {
     "name": "stdout",
     "output_type": "stream",
     "text": [
      "3.141592653589793\n",
      "('This', 3.141592653589793, 12, 12.6, ['List', 'in', 'list'], 'and final sting') <class 'tuple'>\n",
      "Я перевизначив змінну P в якій була констанні Пі 2.13\n",
      "('This', 3.141592653589793, 12, 12.6, ['List', 'in', 'list'], 'and final sting')\n"
     ]
    }
   ],
   "source": [
    "import math\n",
    "print(math.pi)\n",
    "p = math.pi\n",
    "t = (a, p, i, f, [\"List\", \"in\", \"list\"], \"and final sting\")\n",
    "\n",
    "print(t, type(t))\n",
    "\n",
    "\n",
    "p = 2.13\n",
    "print(\"Я перевизначив змінну P в якій була констанні Пі\", p)\n",
    "#t[1] = p # Це виведе помилку, бо Tuple змінювати не можна!\n",
    "\n",
    "print(t)"
   ]
  },
  {
   "cell_type": "code",
   "execution_count": 12,
   "metadata": {},
   "outputs": [
    {
     "name": "stdout",
     "output_type": "stream",
     "text": [
      "<class 'float'>\n",
      "Маємо тип <class 'list'> зі значенями [1, 2, 3] а якщо застосувати бібліотеку numpy буде <class 'numpy.ndarray'> із значеннями [1 2 3]\n"
     ]
    }
   ],
   "source": [
    "import numpy as np\n",
    "print(type(math.pi))\n",
    "\n",
    "l = list([1, 2, 3])\n",
    "np_l = np.array(l)\n",
    "print(f\"Маємо тип {type(l)} зі значенями {l} а якщо застосувати бібліотеку numpy буде {type(np_l)} із значеннями {np_l}\")"
   ]
  },
  {
   "attachments": {},
   "cell_type": "markdown",
   "metadata": {},
   "source": [
    "`Mapping` - типи мади які ставлять у відповідність ключ значення, до них належать `dict`"
   ]
  },
  {
   "cell_type": "code",
   "execution_count": 23,
   "metadata": {},
   "outputs": [
    {
     "name": "stdout",
     "output_type": "stream",
     "text": [
      "Доступаємось до елементів словника: \n",
      "||| значення \n",
      "||| Це не нульовий елемент\n",
      "||| key \n",
      "||| value\n",
      "\n"
     ]
    }
   ],
   "source": [
    "a = \"key\"\n",
    "d = {\"ключ\": \"значення\", \"key\": \"value\", 0: \"Це не нульовий елемент\", 'a': a}\n",
    "print(f\"\"\"Доступаємось до елементів словника: \n",
    "||| {d['ключ']} \n",
    "||| {d[0]}\n",
    "||| {d['a']} \n",
    "||| {d[a]}\n",
    "\"\"\")\n"
   ]
  }
 ],
 "metadata": {
  "kernelspec": {
   "display_name": "Python 3",
   "language": "python",
   "name": "python3"
  },
  "language_info": {
   "codemirror_mode": {
    "name": "ipython",
    "version": 3
   },
   "file_extension": ".py",
   "mimetype": "text/x-python",
   "name": "python",
   "nbconvert_exporter": "python",
   "pygments_lexer": "ipython3",
   "version": "3.11.0"
  },
  "orig_nbformat": 4,
  "vscode": {
   "interpreter": {
    "hash": "72b2382ece9768098284d92bbc69d35954e75b60d1e25897d1389c232f4796f0"
   }
  }
 },
 "nbformat": 4,
 "nbformat_minor": 2
}
